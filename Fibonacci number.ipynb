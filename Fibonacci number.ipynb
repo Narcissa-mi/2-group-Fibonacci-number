{
 "cells": [
  {
   "cell_type": "code",
   "execution_count": 2,
   "metadata": {},
   "outputs": [
    {
     "name": "stdout",
     "output_type": "stream",
     "text": [
      "番号を入力してください:22\n",
      "0\n",
      "1\n",
      "1\n",
      "2\n",
      "3\n",
      "5\n",
      "8\n",
      "13\n",
      "21\n",
      "34\n",
      "55\n",
      "89\n",
      "144\n",
      "233\n",
      "377\n",
      "610\n",
      "987\n",
      "1597\n",
      "2584\n",
      "4181\n",
      "6765\n",
      "10946\n"
     ]
    }
   ],
   "source": [
    "#Fibonacci number\n",
    " # 2-group-Fibonacci-number\n",
    "\n",
    "def fib(n):\n",
    "  x = 0\n",
    "  y = 1\n",
    "  for i in range(int(n/2)):\n",
    "    x = x+y\n",
    "    y = x+y\n",
    "  if n%2 is 0:\n",
    "    return x\n",
    "  return y\n",
    "number = int(input(\"番号を入力してください:\"))\n",
    "for i in range(number):\n",
    "  print(fib(i))"
   ]
  },
  {
   "cell_type": "code",
   "execution_count": null,
   "metadata": {},
   "outputs": [],
   "source": []
  }
 ],
 "metadata": {
  "kernelspec": {
   "display_name": "Python 3",
   "language": "python",
   "name": "python3"
  },
  "language_info": {
   "codemirror_mode": {
    "name": "ipython",
    "version": 3
   },
   "file_extension": ".py",
   "mimetype": "text/x-python",
   "name": "python",
   "nbconvert_exporter": "python",
   "pygments_lexer": "ipython3",
   "version": "3.6.5"
  }
 },
 "nbformat": 4,
 "nbformat_minor": 2
}
